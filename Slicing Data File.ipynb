{
 "cells": [
  {
   "cell_type": "code",
   "execution_count": null,
   "id": "6bd879d0",
   "metadata": {},
   "outputs": [],
   "source": [
    "import requests\n",
    "import os"
   ]
  },
  {
   "cell_type": "code",
   "execution_count": null,
   "id": "ee8471e6",
   "metadata": {},
   "outputs": [],
   "source": [
    "# Get the full path to the file\n",
    "file_path = os.path.join(os.getcwd(), 'addresses.txt')\n",
    "if os.path.exists(file_path):\n",
    "    print(file_path)\n",
    "else:\n",
    "    print('File not found: {0} '.format(file_path))"
   ]
  },
  {
   "cell_type": "code",
   "execution_count": null,
   "id": "a6d87ed6",
   "metadata": {},
   "outputs": [],
   "source": [
    "import csv\n",
    "from itertools import islice\n",
    "\n",
    "with open(file_path) as csvfile:\n",
    "    reader = csv.DictReader(csvfile)\n",
    "    for row in islice(reader, 10): # first 10 only\n",
    "        print(str(row.values()))"
   ]
  },
  {
   "cell_type": "code",
   "execution_count": null,
   "id": "8aa1e612",
   "metadata": {},
   "outputs": [],
   "source": [
    "a_file = open(file_path)\n",
    "csvfile = open('addresses1.csv', 'w')\n",
    "number_of_lines = 10000\n",
    "\n",
    "for i in range(number_of_lines):\n",
    "    line = a_file.readline()\n",
    "    fixed_line = line.replace(\"\\n\",\"\").replace(\"|\",\",\")\n",
    "    print(fixed_line)\n",
    "    csvfile.write(\"%s\\n\"%(fixed_line))\n",
    "csvfile.close()\n",
    "    "
   ]
  },
  {
   "cell_type": "code",
   "execution_count": null,
   "id": "6d2ad189",
   "metadata": {},
   "outputs": [],
   "source": [
    "def split(filehandler, delimiter='|', write_delimiter=\",\", row_limit=10000,\n",
    "          output_name_template='output_%s.csv', output_path='.', keep_headers=True):\n",
    "    reader = csv.reader(filehandler,  delimiter=delimiter)\n",
    "    current_piece = 1\n",
    "    current_out_path = os.path.join(\n",
    "        output_path,\n",
    "        output_name_template % current_piece\n",
    "    )\n",
    "    current_out_writer = csv.writer(open(current_out_path, 'w'), delimiter=write_delimiter, lineterminator='\\n')\n",
    "    current_limit = row_limit\n",
    "    if keep_headers:\n",
    "        headers = next(reader)\n",
    "        current_out_writer.writerow(headers)\n",
    "    for i, row in enumerate(reader):\n",
    "        if i + 1 > current_limit:\n",
    "            current_piece += 1\n",
    "            current_limit = row_limit * current_piece\n",
    "            current_out_path = os.path.join(\n",
    "                output_path,\n",
    "                output_name_template % current_piece\n",
    "            )\n",
    "            current_out_writer = csv.writer(open(current_out_path, 'w'), delimiter=write_delimiter, lineterminator='\\n')\n",
    "            if keep_headers:\n",
    "                current_out_writer.writerow(headers)\n",
    "        current_out_writer.writerow(row)\n",
    "    \n",
    "#split(open(file_path, 'r'))\n"
   ]
  },
  {
   "cell_type": "code",
   "execution_count": null,
   "id": "4ab931ba",
   "metadata": {},
   "outputs": [],
   "source": [
    "split(open(file_path, 'r',  errors='ignore'), output_path=\"split_csvs\",keep_headers=False)"
   ]
  },
  {
   "cell_type": "code",
   "execution_count": null,
   "id": "91253bd1",
   "metadata": {},
   "outputs": [],
   "source": [
    "import csv\n",
    "from itertools import islice\n",
    "\n",
    "with open(file_path) as csvfile:\n",
    "    reader = csv.reader(csvfile, delimiter=\"|\")\n",
    "    for row in reader: # first 10 only\n",
    "        print(row)"
   ]
  },
  {
   "cell_type": "code",
   "execution_count": null,
   "id": "ab48c08c",
   "metadata": {},
   "outputs": [],
   "source": []
  }
 ],
 "metadata": {
  "kernelspec": {
   "display_name": "Python 3 (ipykernel)",
   "language": "python",
   "name": "python3"
  },
  "language_info": {
   "codemirror_mode": {
    "name": "ipython",
    "version": 3
   },
   "file_extension": ".py",
   "mimetype": "text/x-python",
   "name": "python",
   "nbconvert_exporter": "python",
   "pygments_lexer": "ipython3",
   "version": "3.8.12"
  }
 },
 "nbformat": 4,
 "nbformat_minor": 5
}

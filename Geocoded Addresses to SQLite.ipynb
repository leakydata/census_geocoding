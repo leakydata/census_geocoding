{
 "cells": [
  {
   "cell_type": "code",
   "execution_count": null,
   "id": "842cd278",
   "metadata": {},
   "outputs": [],
   "source": [
    "import pandas as pd\n",
    "import numpy as np\n",
    "import os\n",
    "import shutil"
   ]
  },
  {
   "cell_type": "code",
   "execution_count": null,
   "id": "8e33d917",
   "metadata": {},
   "outputs": [],
   "source": [
    "from sqlalchemy import create_engine\n",
    "engine = create_engine(r'sqlite:///C:\\Users\\njones\\Documents\\addresses.sqlite', echo=False)"
   ]
  },
  {
   "cell_type": "code",
   "execution_count": null,
   "id": "49a68223",
   "metadata": {},
   "outputs": [],
   "source": [
    "header_list = [\n",
    "    'ROW_NUM','INPUT_ADDRESS','MATCH','MATCH_TYPE','TIGER_OUTPUT_ADDRESS','LONLAT','TIGERLINE_ID','TIGERLINE_ID_SIDE'\n",
    "]\n",
    "\n",
    "#.loc[row_indexer,col_indexer]"
   ]
  },
  {
   "cell_type": "code",
   "execution_count": null,
   "id": "ddbeadf2",
   "metadata": {
    "scrolled": true
   },
   "outputs": [],
   "source": [
    "for root, dirs, files in os.walk(r\"C:\\Users\\njones\\Documents\\Python Scripts\\Census Geocoding\\downloaded_csvs\"):\n",
    "    for filename in files: #[:2]:\n",
    "        print(root+\"\\\\\"+filename)\n",
    "        df = pd.read_csv(r\"%s\"%(root+\"\\\\\"+filename), names=header_list)\n",
    "        matches_df = df.loc[df['MATCH']=='Match']\n",
    "        non_matches_df = df.loc[(df['MATCH']=='No_Match')|(df['MATCH']=='Tie')]\n",
    "\n",
    "        matches_df[['STREET_ADDRESS', 'CITY', 'STATE','ZIP_CODE']] = matches_df['INPUT_ADDRESS'].str.split(\",\", expand=True)[[0,1,2,3]]\n",
    "        non_matches_df[['STREET_ADDRESS', 'CITY', 'STATE','ZIP_CODE']] = non_matches_df['INPUT_ADDRESS'].str.split(\",\", expand=True)[[0,1,2,3]]\n",
    "\n",
    "        non_matches_df[['O_ADDRESS', 'O_CITY', 'O_STATE','O_ZIP_CODE']] = \"\"\n",
    "        matches_df[['O_ADDRESS', 'O_CITY', 'O_STATE','O_ZIP_CODE']] = matches_df['TIGER_OUTPUT_ADDRESS'].str.split(\",\", expand=True)[[0,1,2,3]]\n",
    "\n",
    "        \n",
    "        matches_df[['LON', 'LAT']] = matches_df['LONLAT'].str.split(\",\", expand=True)\n",
    "        \n",
    "        matches_df[['filename']] = filename\n",
    "        non_matches_df[['filename']] = filename\n",
    "        \n",
    "        # Trim all non-numeric cloumn values of extra characters\n",
    "        for c in matches_df.select_dtypes(exclude=[np.number]).columns.tolist():\n",
    "            matches_df[c] = matches_df[c].str.strip()\n",
    "            \n",
    "        for c in non_matches_df.select_dtypes(exclude=[np.number]).columns.tolist():\n",
    "            non_matches_df[c] = non_matches_df[c].str.strip()    \n",
    "            \n",
    "\n",
    "        # Write dataframe to the SQLite database\n",
    "        matches_df.to_sql('address_coords', con=engine, index=False, if_exists='append') \n",
    "        non_matches_df.to_sql('address_coords', con=engine, index=False, if_exists='append') \n",
    "        \n",
    "        dest = shutil.move(\n",
    "            root+\"\\\\\"+filename,\n",
    "            \"C:\\\\Users\\\\njones\\\\Documents\\\\Python Scripts\\\\Census Geocoding\\\\inserted_csvs\\\\\"+filename\n",
    "            ) "
   ]
  },
  {
   "cell_type": "code",
   "execution_count": null,
   "id": "a47a0ba1",
   "metadata": {},
   "outputs": [],
   "source": [
    "non_matches_df"
   ]
  },
  {
   "cell_type": "code",
   "execution_count": null,
   "id": "2b99505c",
   "metadata": {},
   "outputs": [],
   "source": [
    "matches_df['TIGER_OUTPUT_ADDRESS'].str.split(\",\", expand=True)[[0,1,2,3]]"
   ]
  },
  {
   "cell_type": "code",
   "execution_count": null,
   "id": "c51d7343",
   "metadata": {},
   "outputs": [],
   "source": [
    "#df.to_sql('answers', con=engine, index=False, if_exists='append') \n",
    "header_list = [\n",
    "    'ROW_NUM','INPUT_ADDRESS','MATCH','MATCH_TYPE','TIGER_OUTPUT_ADDRESS','LONLAT','TIGERLINE_ID','TIGERLINE_ID_SIDE'\n",
    "]\n",
    "df = pd.read_csv(r\"C:\\Users\\njones\\Documents\\Python Scripts\\Census Geocoding\\downloaded_csvs\\output_103_d.csv\", names=header_list)\n",
    "df"
   ]
  },
  {
   "cell_type": "code",
   "execution_count": null,
   "id": "0545a3a4",
   "metadata": {},
   "outputs": [],
   "source": [
    "matches_df = df.loc[df['MATCH']=='Match']\n",
    "non_matches_df = df.loc[(df['MATCH']=='No_Match')|(df['MATCH']=='Tie')]\n",
    "\n",
    "matches_df[['STREET_ADDRESS', 'CITY', 'STATE','ZIP_CODE']] = matches_df['TIGER_OUTPUT_ADDRESS'].str.split(\",\", expand=True)\n",
    "non_matches_df[['STREET_ADDRESS', 'CITY', 'STATE','ZIP_CODE']] = non_matches_df['INPUT_ADDRESS'].str.split(\",\", expand=True)\n",
    "\n",
    "matches_df[['LON', 'LAT']] = matches_df['LONLAT'].str.split(\",\", expand=True)\n",
    "\n",
    "matches_df\n",
    "#matches_df[['STREET_ADDRESS', 'CITY', 'STATE','ZIP_CODE']] = matches_df['INPUT_ADDRESS'].str.split(\",\", expand=True)\n",
    "#non_matches_df[['STREET_ADDRESS', 'CITY', 'STATE','ZIP_CODE']] = non_matches_df['TIGER_OUTPUT_ADDRESS'].str.split(\",\", expand=True)"
   ]
  },
  {
   "cell_type": "code",
   "execution_count": null,
   "id": "f969ca91",
   "metadata": {},
   "outputs": [],
   "source": [
    "df[['STREET_ADDRESS', 'CITY', 'STATE','ZIP_CODE']] = df['TIGER_OUTPUT_ADDRESS'].str.split(\",\", expand=True)\n",
    "df.loc[df['TIGER_OUTPUT_ADDRESS'].isna()][['STREET_ADDRESS', 'CITY', 'STATE','ZIP_CODE']] = df.loc[df['TIGER_OUTPUT_ADDRESS'].isna()]['INPUT_ADDRESS'].str.split(\",\", expand=True)\n",
    "\n",
    "df[['LON', 'LAT']] = df['LONLAT'].str.split(\",\", expand=True)\n",
    "df"
   ]
  },
  {
   "cell_type": "code",
   "execution_count": null,
   "id": "a5600194",
   "metadata": {},
   "outputs": [],
   "source": [
    "matches_df = df.loc[~df['TIGER_OUTPUT_ADDRESS'].isna()][['STREET_ADDRESS', 'CITY', 'STATE','ZIP_CODE']]\n",
    "non_matches_df = df.loc[df['TIGER_OUTPUT_ADDRESS'].isna()][['STREET_ADDRESS', 'CITY', 'STATE','ZIP_CODE']]\n",
    "matches_df[['STREET_ADDRESS', 'CITY', 'STATE','ZIP_CODE']] = matches_df['INPUT_ADDRESS'].str.split(\",\", expand=True)\n",
    "non_matches_df[['STREET_ADDRESS', 'CITY', 'STATE','ZIP_CODE']] = non_matches_df['TIGER_OUTPUT_ADDRESS'].str.split(\",\", expand=True)"
   ]
  },
  {
   "cell_type": "code",
   "execution_count": null,
   "id": "c6b9e794",
   "metadata": {},
   "outputs": [],
   "source": [
    "df"
   ]
  },
  {
   "cell_type": "code",
   "execution_count": null,
   "id": "1ddc8fa5",
   "metadata": {},
   "outputs": [],
   "source": [
    "# Select non-numeric columns\n",
    "df.select_dtypes(exclude=[np.number])"
   ]
  },
  {
   "cell_type": "code",
   "execution_count": null,
   "id": "2ddfa6de",
   "metadata": {},
   "outputs": [],
   "source": [
    "for c in df.select_dtypes(exclude=[np.number]).columns.tolist():\n",
    "    df[c] = df[c].str.strip()"
   ]
  },
  {
   "cell_type": "code",
   "execution_count": null,
   "id": "991ded3e",
   "metadata": {},
   "outputs": [],
   "source": [
    "df"
   ]
  },
  {
   "cell_type": "code",
   "execution_count": null,
   "id": "81617640",
   "metadata": {},
   "outputs": [],
   "source": [
    "query = \"\"\"\n",
    "        SELECT * FROM address_coords WHERE MATCH = 'Match' AND STATE = 'PA' ORDER BY ZIP_CODE\n",
    "    \"\"\" #.format(cols,Q,segment)\n",
    "\n",
    "pd.read_sql(query, engine).to_csv(\"PA_CUSTOMERS_WITH_GPS.csv\")"
   ]
  },
  {
   "cell_type": "code",
   "execution_count": null,
   "id": "1253dc21",
   "metadata": {},
   "outputs": [],
   "source": []
  }
 ],
 "metadata": {
  "kernelspec": {
   "display_name": "Python 3 (ipykernel)",
   "language": "python",
   "name": "python3"
  },
  "language_info": {
   "codemirror_mode": {
    "name": "ipython",
    "version": 3
   },
   "file_extension": ".py",
   "mimetype": "text/x-python",
   "name": "python",
   "nbconvert_exporter": "python",
   "pygments_lexer": "ipython3",
   "version": "3.8.12"
  }
 },
 "nbformat": 4,
 "nbformat_minor": 5
}

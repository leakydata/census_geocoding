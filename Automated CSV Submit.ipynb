{
 "cells": [
  {
   "cell_type": "code",
   "execution_count": 1,
   "id": "d725e659",
   "metadata": {},
   "outputs": [],
   "source": [
    "import requests\n",
    "import json\n",
    "import csv\n",
    "import pandas as pd\n",
    "\n",
    "import os\n",
    "import shutil"
   ]
  },
  {
   "cell_type": "raw",
   "id": "d0e189c7",
   "metadata": {},
   "source": [
    "# Fix csv issues for submission, and save the repaired file in the same directory overwriting the old one\n",
    "for root, dirs, files in os.walk(r\"C:\\Users\\njones\\Documents\\Python Scripts\\Census Geocoding\\split_csvs\"):\n",
    "    for filename in files:\n",
    "        print(filename)\n",
    "        \n",
    "        csv_cols = {0:'address1',1:'address2',2:'city',3:'state',4:'zip',5:'country'}\n",
    "        df = pd.read_csv(root+\"\\\\\"+filename, header=None)\n",
    "        df = df[[0,2,3,4]]\n",
    "        df.to_csv(root+\"\\\\\"+filename, header=False)\n",
    "        "
   ]
  },
  {
   "cell_type": "code",
   "execution_count": null,
   "id": "2bf571e0",
   "metadata": {
    "scrolled": true
   },
   "outputs": [
    {
     "name": "stdout",
     "output_type": "stream",
     "text": [
      "output_695.csv\n",
      "output_696.csv\n",
      "output_697.csv\n",
      "output_698.csv\n",
      "output_699.csv\n",
      "output_7.csv\n",
      "output_70.csv\n",
      "output_700.csv\n",
      "output_701.csv\n",
      "output_702.csv\n",
      "output_703.csv\n",
      "output_704.csv\n",
      "output_705.csv\n",
      "output_706.csv\n",
      "output_707.csv\n",
      "output_708.csv\n",
      "output_709.csv\n",
      "output_71.csv\n",
      "output_710.csv\n",
      "output_711.csv\n",
      "output_712.csv\n"
     ]
    }
   ],
   "source": [
    "# Fix csv issues for submission, and save the repaired file in the same directory overwriting the old one\n",
    "for root, dirs, files in os.walk(r\"C:\\Users\\njones\\Documents\\Python Scripts\\Census Geocoding\\split_csvs\"):\n",
    "    for filename in files:\n",
    "        print(filename)\n",
    "        final_filename = filename.replace(\".csv\",\"_d.csv\")\n",
    "        #print(final_filename)\n",
    "        \n",
    "        source_file = open(root+\"\\\\\"+filename, 'rb')\n",
    "        \n",
    "        url = 'https://geocoding.geo.census.gov/geocoder/locations/addressbatch'\n",
    "        payload = {'benchmark':'Public_AR_Current','vintage':'ACS2013_Current'}\n",
    "        files = {'addressFile': (filename, source_file, 'text/csv')}\n",
    "        r = requests.post(url, files=files, data = payload) #proxies=p\n",
    "        \n",
    "        source_file.close()\n",
    "        \n",
    "        csv_file = open(\"downloaded_csvs/\"+final_filename, 'wb')\n",
    "        csv_file.write(r.content)\n",
    "        csv_file.close()\n",
    "               \n",
    "        dest = shutil.move(\n",
    "            root+\"\\\\\"+filename,\n",
    "            \"C:\\\\Users\\\\njones\\\\Documents\\\\Python Scripts\\\\Census Geocoding\\\\done\\\\\"+filename\n",
    "            ) \n",
    "\n",
    "        \n",
    "        "
   ]
  },
  {
   "cell_type": "code",
   "execution_count": null,
   "id": "d433a91c",
   "metadata": {},
   "outputs": [],
   "source": []
  }
 ],
 "metadata": {
  "kernelspec": {
   "display_name": "Python 3 (ipykernel)",
   "language": "python",
   "name": "python3"
  },
  "language_info": {
   "codemirror_mode": {
    "name": "ipython",
    "version": 3
   },
   "file_extension": ".py",
   "mimetype": "text/x-python",
   "name": "python",
   "nbconvert_exporter": "python",
   "pygments_lexer": "ipython3",
   "version": "3.8.12"
  }
 },
 "nbformat": 4,
 "nbformat_minor": 5
}

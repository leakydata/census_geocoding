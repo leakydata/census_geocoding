{
 "cells": [
  {
   "cell_type": "code",
   "execution_count": 3,
   "id": "d725e659",
   "metadata": {},
   "outputs": [],
   "source": [
    "import requests\n",
    "import json\n",
    "import csv\n",
    "import pandas as pd\n"
   ]
  },
  {
   "cell_type": "code",
   "execution_count": null,
   "id": "13b9db39",
   "metadata": {},
   "outputs": [],
   "source": [
    "f=\"split_csvs/output_3\""
   ]
  },
  {
   "cell_type": "code",
   "execution_count": null,
   "id": "7b143e48",
   "metadata": {},
   "outputs": [],
   "source": [
    "csv_cols = {0:'address1',1:'address2',2:'city',3:'state',4:'zip',5:'country'}\n",
    "df = pd.read_csv(f+\".csv\", header=None)\n",
    "df = df[[0,2,3,4]]\n",
    "df.to_csv(f, header=False)"
   ]
  },
  {
   "cell_type": "code",
   "execution_count": null,
   "id": "6718d9bf",
   "metadata": {},
   "outputs": [],
   "source": [
    "#p= {'http': r'socks5://proxy.torguard.org/scholyx@gmail.com:2!vacarosa:1080', r'https': 'socks5://proxy.torguard.org/scholyx@gmail.com:2!vacarosa:1090'}\n",
    "url = 'https://geocoding.geo.census.gov/geocoder/locations/addressbatch'\n",
    "payload = {'benchmark':'Public_AR_Current','vintage':'ACS2013_Current'}\n",
    "files = {'addressFile': (f+\".csv\", open(f+\".csv\", 'rb'), 'text/csv')}\n",
    "r = requests.post(url, files=files, data = payload) #proxies=p"
   ]
  },
  {
   "cell_type": "code",
   "execution_count": null,
   "id": "9d0439ac",
   "metadata": {},
   "outputs": [],
   "source": [
    "r.text"
   ]
  },
  {
   "cell_type": "code",
   "execution_count": null,
   "id": "930969b5",
   "metadata": {},
   "outputs": [],
   "source": [
    "csv_file = open(\"downloaded_csvs/\"+f+\"_d.csv\", 'wb')\n",
    "csv_file.write(r.content)\n",
    "csv_file.close()"
   ]
  },
  {
   "cell_type": "code",
   "execution_count": null,
   "id": "0b105e86",
   "metadata": {},
   "outputs": [],
   "source": []
  }
 ],
 "metadata": {
  "kernelspec": {
   "display_name": "Python 3",
   "language": "python",
   "name": "python3"
  },
  "language_info": {
   "codemirror_mode": {
    "name": "ipython",
    "version": 3
   },
   "file_extension": ".py",
   "mimetype": "text/x-python",
   "name": "python",
   "nbconvert_exporter": "python",
   "pygments_lexer": "ipython3",
   "version": "3.6.13"
  }
 },
 "nbformat": 4,
 "nbformat_minor": 5
}
